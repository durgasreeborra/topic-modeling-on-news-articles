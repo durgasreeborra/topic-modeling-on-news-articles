{
  "nbformat": 4,
  "nbformat_minor": 0,
  "metadata": {
    "colab": {
      "provenance": [],
      "authorship_tag": "ABX9TyMEQxXbuE9AijX5YN5W9d6L",
      "include_colab_link": true
    },
    "kernelspec": {
      "name": "python3",
      "display_name": "Python 3"
    },
    "language_info": {
      "name": "python"
    }
  },
  "cells": [
    {
      "cell_type": "markdown",
      "metadata": {
        "id": "view-in-github",
        "colab_type": "text"
      },
      "source": [
        "<a href=\"https://colab.research.google.com/github/durgasreeborra/topic-modeling-on-news-articles/blob/main/data_ingestion.ipynb\" target=\"_parent\"><img src=\"https://colab.research.google.com/assets/colab-badge.svg\" alt=\"Open In Colab\"/></a>"
      ]
    },
    {
      "cell_type": "code",
      "execution_count": null,
      "metadata": {
        "id": "Z_BUzhYV_41m"
      },
      "outputs": [],
      "source": [
        "import os\n",
        "data = {}\n",
        "categories = [\"business\", \"entertainment\", \"politics\", \"sport\", \"tech\"]\n",
        "\n",
        "for category in categories:\n",
        "    category_data = []\n",
        "    category_dir = os.path.join(\"D:\\data\\Temp\", category)\n",
        "\n",
        "    file_list = os.listdir(category_dir)\n",
        "    for file_name in file_list:\n",
        "        with open(os.path.join(category_dir, file_name), 'r', encoding='iso-8859-1') as file:\n",
        "            text = file.read()\n",
        "            category_data.append(text)\n",
        "    data[category] = category_data\n",
        "data"
      ]
    }
  ]
}