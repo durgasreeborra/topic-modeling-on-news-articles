{
  "nbformat": 4,
  "nbformat_minor": 0,
  "metadata": {
    "colab": {
      "provenance": [],
      "authorship_tag": "ABX9TyOPiDSsWMIjVan9lCnFL6/L",
      "include_colab_link": true
    },
    "kernelspec": {
      "name": "python3",
      "display_name": "Python 3"
    },
    "language_info": {
      "name": "python"
    }
  },
  "cells": [
    {
      "cell_type": "markdown",
      "metadata": {
        "id": "view-in-github",
        "colab_type": "text"
      },
      "source": [
        "<a href=\"https://colab.research.google.com/github/durgasreeborra/topic-modeling-on-news-articles/blob/main/Dataexploration.ipynb\" target=\"_parent\"><img src=\"https://colab.research.google.com/assets/colab-badge.svg\" alt=\"Open In Colab\"/></a>"
      ]
    },
    {
      "cell_type": "code",
      "execution_count": null,
      "metadata": {
        "id": "OnpRsL32AnC6"
      },
      "outputs": [],
      "source": [
        "#!/usr/bin/env python\n",
        "# coding: utf-8\n",
        "\n",
        "# In[4]:\n",
        "\n",
        "\n",
        "import os\n",
        "import pandas as pd\n",
        "\n",
        "# Create an empty dictionary to store data categorized by different categories.\n",
        "data = {}\n",
        "categories = [\"business\", \"entertainment\", \"politics\", \"sport\", \"tech\"]\n",
        "\n",
        "# Define a dictionary to store exploration results.\n",
        "exploration_results = {}\n",
        "\n",
        "# Loop through each category.\n",
        "for category in categories:\n",
        "    category_data = []\n",
        "    category_dir = os.path.join(\"D:\\data\\Temp\", category)\n",
        "\n",
        "    file_list = os.listdir(category_dir)\n",
        "    for file_name in file_list:\n",
        "        with open(os.path.join(category_dir, file_name), 'r', encoding='iso-8859-1') as file:\n",
        "            text = file.read()\n",
        "            # Remove spaces between words\n",
        "            text = ' '.join(text.split())  # This removes extra spaces\n",
        "            category_data.append(text)\n",
        "\n",
        "    # Store the category's data in the 'data' dictionary.\n",
        "    data[category] = category_data\n",
        "\n",
        "    # Perform data exploration for the current category.\n",
        "    num_documents = len(category_data)\n",
        "    total_characters = sum(len(doc) for doc in category_data)\n",
        "    average_characters = total_characters / num_documents\n",
        "\n",
        "    # Store exploration results in the 'exploration_results' dictionary.\n",
        "    exploration_results[category] = {\n",
        "        \"Num Documents\": num_documents,\n",
        "        \"Total Characters\": total_characters,\n",
        "        \"Average Characters per Document\": average_characters,\n",
        "    }\n",
        "\n",
        "# Task 2.1.1: Display the dataset's structure (first few rows)\n",
        "print(\"Task 2.1.1: Display the dataset's structure (first few rows)\")\n",
        "for category, category_data in data.items():\n",
        "    print(f\"Category: {category}\")\n",
        "    for i, document in enumerate(category_data[:5]):\n",
        "        print(f\"Document {i + 1}: {document[:100]}...\")  # Display the first 100 characters\n",
        "\n",
        "# Task 2.1.2: Print column names and data types\n",
        "print(\"\\nTask 2.1.2: Print column names and data types\")\n",
        "for category, category_data in data.items():\n",
        "    print(f\"Category: {category}\")\n",
        "    df = pd.DataFrame({'Text': category_data})\n",
        "    print(df.dtypes)\n",
        "    print()\n",
        "\n",
        "# Check for Missing Values:\n",
        "\n",
        "# Task 2.1.3: Identify missing values and provide a summary\n",
        "print(\"Task 2.1.3: Identify missing values and provide a summary\")\n",
        "for category, category_data in data.items():\n",
        "    print(f\"Category: {category}\")\n",
        "    df = pd.DataFrame({'Text': category_data})\n",
        "    missing_values = df.isnull().sum()\n",
        "    print(missing_values)\n",
        "    print()\n",
        "\n",
        "# Summary Statistics: (Not applicable to text data)\n",
        "\n",
        "# Task 2.1.4: Compute summary statistics for text lengths\n",
        "print(\"Task 2.1.4: Summary Statistics for Text Lengths\")\n",
        "for category, category_data in data.items():\n",
        "    print(f\"Category: {category}\")\n",
        "    df = pd.DataFrame({'Text': category_data})\n",
        "    df['Text Length'] = df['Text'].apply(len)\n",
        "    summary_stats = df['Text Length'].describe(percentiles=[.25, .75])\n",
        "    print(summary_stats[['count', 'mean', 'std', 'min', 'max']])\n",
        "    print()\n",
        "\n",
        "\n",
        "\n",
        "\n",
        "# In[ ]:\n",
        "\n",
        "\n",
        "\n"
      ]
    }
  ]
}